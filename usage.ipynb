{
 "cells": [
  {
   "cell_type": "code",
   "execution_count": 3,
   "metadata": {},
   "outputs": [],
   "source": [
    "from web_crawler import WebCrawler"
   ]
  },
  {
   "cell_type": "code",
   "execution_count": 6,
   "metadata": {},
   "outputs": [
    {
     "name": "stdout",
     "output_type": "stream",
     "text": [
      "총 21개의 블로그 데이터 수집 완료\n"
     ]
    }
   ],
   "source": [
    "naver_blog_crawler = WebCrawler('naver_blog', 'NLP', 3)\n",
    "naver_blog_crawler()"
   ]
  },
  {
   "cell_type": "code",
   "execution_count": 7,
   "metadata": {},
   "outputs": [
    {
     "name": "stdout",
     "output_type": "stream",
     "text": [
      "1번째 페이지의 blog.daum.net/mind119/6269010 크롤링 실패\n",
      "1번째 페이지의 blog.daum.net/hypnotherapist/8738234 크롤링 실패\n",
      "1번째 페이지의 blog.daum.net/windyzz/6666613 크롤링 실패\n",
      "1번째 페이지의 blog.daum.net/nlperworld/14321316 크롤링 실패\n",
      "2번째 페이지의 blog.daum.net/suh3004/18218081 크롤링 실패\n",
      "2번째 페이지의 blog.daum.net/nlperworld/14321295 크롤링 실패\n",
      "2번째 페이지의 blog.daum.net/kmseol/16155780 크롤링 실패\n",
      "2번째 페이지의 blog.daum.net/krjohn316/16423141 크롤링 실패\n",
      "2번째 페이지의 blog.daum.net/kmseol/14728293 크롤링 실패\n",
      "2번째 페이지의 blog.daum.net/toxictoxic/7792504 크롤링 실패\n",
      "2번째 페이지의 blog.daum.net/bltch/16456317 크롤링 실패\n",
      "2번째 페이지의 blog.daum.net/jskim959/2356152 크롤링 실패\n",
      "3번째 페이지의 blog.daum.net/eopenson/8913093 크롤링 실패\n",
      "3번째 페이지의 blog.daum.net/jin690325/16155409 크롤링 실패\n",
      "3번째 페이지의 blog.daum.net/kamo69/11077685 크롤링 실패\n",
      "3번째 페이지의 blog.daum.net/maumbuja/5643963 크롤링 실패\n",
      "3번째 페이지의 blog.daum.net/disney0611/15810976 크롤링 실패\n",
      "3번째 페이지의 blog.daum.net/hobaknengcool/7773995 크롤링 실패\n",
      "3번째 페이지의 blog.daum.net/hintl/6865208 크롤링 실패\n",
      "3번째 페이지의 blog.daum.net/hyperion11/17429979 크롤링 실패\n",
      "3번째 페이지의 blog.daum.net/khkrosa/13440860 크롤링 실패\n",
      "총 9개의 블로그 데이터 수집 완료\n"
     ]
    }
   ],
   "source": [
    "daum_blog_crawler = WebCrawler('daum_blog', 'NLP', 3)\n",
    "daum_blog_crawler()"
   ]
  },
  {
   "cell_type": "code",
   "execution_count": null,
   "metadata": {},
   "outputs": [],
   "source": []
  }
 ],
 "metadata": {
  "kernelspec": {
   "display_name": "Python 3",
   "language": "python",
   "name": "python3"
  },
  "language_info": {
   "codemirror_mode": {
    "name": "ipython",
    "version": 3
   },
   "file_extension": ".py",
   "mimetype": "text/x-python",
   "name": "python",
   "nbconvert_exporter": "python",
   "pygments_lexer": "ipython3",
   "version": "3.7.0"
  }
 },
 "nbformat": 4,
 "nbformat_minor": 2
}
